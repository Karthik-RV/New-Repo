{
 "cells": [
  {
   "cell_type": "code",
   "execution_count": 5,
   "metadata": {},
   "outputs": [
    {
     "name": "stdout",
     "output_type": "stream",
     "text": [
      "2022-06-12 19:30:56.058786\n"
     ]
    }
   ],
   "source": [
    "import datetime\n",
    "time = datetime.datetime.now()\n",
    "print(time)"
   ]
  },
  {
   "cell_type": "code",
   "execution_count": 9,
   "metadata": {},
   "outputs": [
    {
     "name": "stdout",
     "output_type": "stream",
     "text": [
      "Enter the customer name :kiran\n",
      "Enter the address :nalgnda\n",
      "Enter phone number :6273237355\n",
      "Enter any ID proof :1373655335\n",
      "1 : 200\n",
      "2 : 400\n",
      "bf : 100\n",
      "lunch : 250\n",
      "dinner : 400\n",
      "how many rooms do u want ?2\n",
      "what food do u want ?bf\n",
      "                               Balayya Hotel,Nalgonda.\n",
      "\n",
      "\n",
      "****************************************************************************************************\n",
      "kiran                                                                        2022-06-12 19:37:33.585248\n",
      "nalgnda\n",
      "6273237355\n",
      "1373655335\n",
      "----------------------------------------------------------------------------------------------------\n",
      "S.No                           Rooms                           Food                           Bill\n",
      "\n",
      "\n",
      "1                                2                                bf                                100\n",
      "----------------------------------------------------------------------------------------------------\n",
      "Total Bill                                                                        500\n"
     ]
    }
   ],
   "source": [
    "Name = input('Enter the customer name :')\n",
    "Address = input('Enter the address :')\n",
    "Phone = int(input(\"Enter phone number :\"))\n",
    "I = int(input('Enter any ID proof :'))\n",
    "time = datetime.datetime.now()\n",
    "totalAmount = 0\n",
    "rooms = {1:200,2:400}\n",
    "food = {'bf' : 100, 'lunch':250,'dinner':400 }\n",
    "for a,b in rooms.items():\n",
    "    print(a,':',b)\n",
    "for x,y in food.items():\n",
    "    print(x,\":\",y)\n",
    "userInput = int(input('how many rooms do u want ?'))\n",
    "roomAmount = 0\n",
    "if userInput == 1:\n",
    "    roomAmount += 200\n",
    "elif userInput == 2:\n",
    "    roomAmount += 400\n",
    "else:\n",
    "    roomAmount += 0\n",
    "khana = input(\"what food do u want ?\")\n",
    "foodAmount = 0\n",
    "if khana == 'bf':\n",
    "    foodAmount += 100\n",
    "elif khana == 'lunch':\n",
    "    foodAmount += 250\n",
    "elif khana == 'dinner':\n",
    "    foodAmount += 400\n",
    "else:\n",
    "    foodAmount += 0\n",
    "totalAmount = roomAmount + foodAmount    \n",
    "print(\" \"*30,\"Balayya Hotel,Nalgonda.\") \n",
    "print(\"\\n\")\n",
    "print(\"*\"*100)\n",
    "print(Name,' '*70,time)\n",
    "print(Address)\n",
    "print(Phone)\n",
    "print(I)\n",
    "print('-'*100)\n",
    "print(\"S.No\",\" \"*25,\"Rooms\",' '*25,\"Food\",\" \"*25,\"Bill\")\n",
    "print('\\n')\n",
    "print(1,' '*30,userInput,\" \"*30,khana,\" \"*30,foodAmount)\n",
    "print(\"-\"*100)\n",
    "print('Total Bill',' '*70,totalAmount)"
   ]
  },
  {
   "cell_type": "code",
   "execution_count": 2,
   "metadata": {},
   "outputs": [
    {
     "name": "stdout",
     "output_type": "stream",
     "text": [
      "                                              Hello\n",
      "\n",
      "\n",
      "----------------------------------------------------------------------------------------------------\n"
     ]
    }
   ],
   "source": [
    "print( \" \"*45,\"Hello\")\n",
    "print('\\n')\n",
    "print('-'*100)"
   ]
  },
  {
   "cell_type": "code",
   "execution_count": null,
   "metadata": {},
   "outputs": [],
   "source": []
  },
  {
   "cell_type": "code",
   "execution_count": null,
   "metadata": {},
   "outputs": [],
   "source": []
  }
 ],
 "metadata": {
  "kernelspec": {
   "display_name": "Python 3",
   "language": "python",
   "name": "python3"
  },
  "language_info": {
   "codemirror_mode": {
    "name": "ipython",
    "version": 3
   },
   "file_extension": ".py",
   "mimetype": "text/x-python",
   "name": "python",
   "nbconvert_exporter": "python",
   "pygments_lexer": "ipython3",
   "version": "3.7.0"
  }
 },
 "nbformat": 4,
 "nbformat_minor": 2
}
